{
 "cells": [
  {
   "cell_type": "code",
   "execution_count": 4,
   "id": "7f9c7257-7136-4bd5-be32-638655d1d0e3",
   "metadata": {},
   "outputs": [
    {
     "name": "stdout",
     "output_type": "stream",
     "text": [
      "Carga completa!\n"
     ]
    }
   ],
   "source": [
    "import pandas as pd\n",
    "import psycopg2\n",
    "\n",
    "# Datos de conexión\n",
    "conn = psycopg2.connect(\n",
    "    dbname='dbt_db',\n",
    "    user='dbt_user',\n",
    "    password='',\n",
    "    host='localhost',\n",
    "    port='5432'\n",
    ")\n",
    "cursor = conn.cursor()\n",
    "\n",
    "# Ruta de tu CSV\n",
    "csv_file = \"../data/providers.csv\"\n",
    "\n",
    "# Nombre de la tabla destino\n",
    "table_name = 'raw.providers'\n",
    "\n",
    "# Función para cargar CSV con COPY\n",
    "def copy_from_file(cursor, file_path, table):\n",
    "    with open(file_path, 'r') as f:\n",
    "        next(f)  # saltar encabezado\n",
    "        cursor.copy_expert(f\"COPY {table} FROM STDIN WITH CSV\", f)\n",
    "\n",
    "# Ejecutar carga\n",
    "copy_from_file(cursor, csv_file, table_name)\n",
    "conn.commit()\n",
    "\n",
    "cursor.close()\n",
    "conn.close()\n",
    "\n",
    "print(\"Carga completa!\")\n"
   ]
  }
 ],
 "metadata": {
  "kernelspec": {
   "display_name": "Python 3 (ipykernel)",
   "language": "python",
   "name": "python3"
  },
  "language_info": {
   "codemirror_mode": {
    "name": "ipython",
    "version": 3
   },
   "file_extension": ".py",
   "mimetype": "text/x-python",
   "name": "python",
   "nbconvert_exporter": "python",
   "pygments_lexer": "ipython3",
   "version": "3.9.7"
  }
 },
 "nbformat": 4,
 "nbformat_minor": 5
}
